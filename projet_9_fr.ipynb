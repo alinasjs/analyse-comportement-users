{
 "cells": [
  {
   "cell_type": "markdown",
   "id": "88ef1cab",
   "metadata": {},
   "source": [
    "# Sommaire"
   ]
  },
  {
   "cell_type": "markdown",
   "id": "62b51aea",
   "metadata": {},
   "source": [
    "1. [Analyse du comportement des utilisateurs de l'application mobile](#description)\n",
    "    * [Description du projet](#proj_description)\n",
    "    * [But de travail](#purpose)\n",
    "    * [Objectifs du projet](#tasks)\n",
    "    * [Description des données](#data)\n",
    "2. [Chargement des données et préparation à l'analyse](#open)\n",
    "    * [Conclusion](#result)\n",
    "3. [Analyse des entonnoirs](#funnel)\n",
    "    * [Conclusion](#result_funnel)\n",
    "4. [A/B Testing](#aab_test)\n",
    "    * [Conclusion](#result_total)"
   ]
  },
  {
   "cell_type": "markdown",
   "id": "f6388f02",
   "metadata": {},
   "source": [
    "# Analyse du comportement des utilisateurs de l'application mobile<a id=\"description\"></a>"
   ]
  },
  {
   "cell_type": "markdown",
   "id": "c37e27e2",
   "metadata": {},
   "source": [
    "## Description du projet <a id=\"proj_description\"></a>"
   ]
  },
  {
   "cell_type": "markdown",
   "id": "ed9d4334",
   "metadata": {},
   "source": [
    "Il y a une start-up qui vend des produits alimentaires. Il est nécessaire de comprendre comment les utilisateurs de l'application mobile se comportent. Pour cela, il est important d'analyser l'entonnoir de vente. Il faut savoir comment les utilisateurs parviennent à l'achat, combien d'utilisateurs parviennent à l'achat, et combien restent bloqués aux étapes précédentes, et lesquelles exactement.\n",
    "\n",
    "Ensuite, il faut étudier les résultats du test A/B. Les designers proposent de changer la police de caractères dans toute l'application."
   ]
  },
  {
   "cell_type": "markdown",
   "id": "ceb417cc",
   "metadata": {},
   "source": [
    "## But de travail  <a id=\"purpose\"></a>"
   ]
  },
  {
   "cell_type": "markdown",
   "id": "3448edcb",
   "metadata": {},
   "source": [
    "\n",
    "Analyser le comportement des utilisateurs de l'application mobile."
   ]
  },
  {
   "cell_type": "markdown",
   "id": "d1aea7ca",
   "metadata": {},
   "source": [
    "## Objectifs du projet  <a id=\"tasks\"></a>"
   ]
  },
  {
   "cell_type": "markdown",
   "id": "544d11a6",
   "metadata": {},
   "source": [
    "1) Étudier l'entonnoir des ventes.\n",
    "\n",
    "2) Analyser les résultats du test A/B sur le changement de police."
   ]
  },
  {
   "cell_type": "markdown",
   "id": "24d07f39",
   "metadata": {},
   "source": [
    "## Description des données <a id=\"data\"></a>"
   ]
  },
  {
   "cell_type": "markdown",
   "id": "1dc2af3c",
   "metadata": {},
   "source": [
    "Les données sont présentées sous forme de journaux. Chaque entrée dans le journal est une action de l'utilisateur ou un événement.\n",
    "- `EventName` — nom de l'événement;\n",
    "- `DeviceIDHash` — identifiant unique de l'utilisateur;\n",
    "- `EventTimestamp` — l'heure de l'événement;\n",
    "- `ExpId` — le numéro de l'expérience : 246 et 247 sont les groupes de contrôle, tandis que 248 est le groupe expérimental."
   ]
  },
  {
   "cell_type": "markdown",
   "id": "c452ef94",
   "metadata": {},
   "source": [
    "# Chargement des données et préparation à l'analyse <a id=\"open\"></a>"
   ]
  },
  {
   "cell_type": "markdown",
   "id": "af58978b",
   "metadata": {},
   "source": [
    "Chargeons les bibliothèques."
   ]
  },
  {
   "cell_type": "code",
   "execution_count": 10,
   "id": "257724c9",
   "metadata": {},
   "outputs": [],
   "source": [
    "import pandas as pd\n",
    "import datetime as dt\n",
    "import numpy as np\n",
    "\n",
    "from plotly import graph_objects as go\n",
    "import plotly.express as px\n",
    "\n",
    "import seaborn as sns\n",
    "sns.set(style=\"white\")\n",
    "colors =[\"#D77FA1\",\"#BAABDA\",\"#D6E5FA\",\"#FFF9F9\"]\n",
    "sns.set_palette(sns.color_palette(colors))\n",
    "\n",
    "from matplotlib import pyplot as plt\n",
    "%matplotlib inline\n",
    "from pandas.plotting import register_matplotlib_converters\n",
    "\n",
    "from scipy import stats as st\n",
    "import math as mth"
   ]
  },
  {
   "cell_type": "code",
   "execution_count": 2,
   "id": "592ea446",
   "metadata": {},
   "outputs": [
    {
     "data": {
      "text/html": [
       "<svg  width=\"220\" height=\"55\"><rect x=\"0\" y=\"0\" width=\"55\" height=\"55\" style=\"fill:#d77fa1;stroke-width:2;stroke:rgb(255,255,255)\"/><rect x=\"55\" y=\"0\" width=\"55\" height=\"55\" style=\"fill:#baabda;stroke-width:2;stroke:rgb(255,255,255)\"/><rect x=\"110\" y=\"0\" width=\"55\" height=\"55\" style=\"fill:#d6e5fa;stroke-width:2;stroke:rgb(255,255,255)\"/><rect x=\"165\" y=\"0\" width=\"55\" height=\"55\" style=\"fill:#fff9f9;stroke-width:2;stroke:rgb(255,255,255)\"/></svg>"
      ],
      "text/plain": [
       "[(0.8431372549019608, 0.4980392156862745, 0.6313725490196078),\n",
       " (0.7294117647058823, 0.6705882352941176, 0.8549019607843137),\n",
       " (0.8392156862745098, 0.8980392156862745, 0.9803921568627451),\n",
       " (1.0, 0.9764705882352941, 0.9764705882352941)]"
      ]
     },
     "execution_count": 2,
     "metadata": {},
     "output_type": "execute_result"
    }
   ],
   "source": [
    "sns.color_palette(colors)"
   ]
  },
  {
   "cell_type": "code",
   "execution_count": 3,
   "id": "7c649f4b",
   "metadata": {},
   "outputs": [
    {
     "data": {
      "text/html": [
       "<div>\n",
       "<style scoped>\n",
       "    .dataframe tbody tr th:only-of-type {\n",
       "        vertical-align: middle;\n",
       "    }\n",
       "\n",
       "    .dataframe tbody tr th {\n",
       "        vertical-align: top;\n",
       "    }\n",
       "\n",
       "    .dataframe thead th {\n",
       "        text-align: right;\n",
       "    }\n",
       "</style>\n",
       "<table border=\"1\" class=\"dataframe\">\n",
       "  <thead>\n",
       "    <tr style=\"text-align: right;\">\n",
       "      <th></th>\n",
       "      <th>EventName</th>\n",
       "      <th>DeviceIDHash</th>\n",
       "      <th>EventTimestamp</th>\n",
       "      <th>ExpId</th>\n",
       "    </tr>\n",
       "  </thead>\n",
       "  <tbody>\n",
       "    <tr>\n",
       "      <td>0</td>\n",
       "      <td>MainScreenAppear</td>\n",
       "      <td>4575588528974610257</td>\n",
       "      <td>1564029816</td>\n",
       "      <td>246</td>\n",
       "    </tr>\n",
       "    <tr>\n",
       "      <td>1</td>\n",
       "      <td>MainScreenAppear</td>\n",
       "      <td>7416695313311560658</td>\n",
       "      <td>1564053102</td>\n",
       "      <td>246</td>\n",
       "    </tr>\n",
       "    <tr>\n",
       "      <td>2</td>\n",
       "      <td>PaymentScreenSuccessful</td>\n",
       "      <td>3518123091307005509</td>\n",
       "      <td>1564054127</td>\n",
       "      <td>248</td>\n",
       "    </tr>\n",
       "    <tr>\n",
       "      <td>3</td>\n",
       "      <td>CartScreenAppear</td>\n",
       "      <td>3518123091307005509</td>\n",
       "      <td>1564054127</td>\n",
       "      <td>248</td>\n",
       "    </tr>\n",
       "    <tr>\n",
       "      <td>4</td>\n",
       "      <td>PaymentScreenSuccessful</td>\n",
       "      <td>6217807653094995999</td>\n",
       "      <td>1564055322</td>\n",
       "      <td>248</td>\n",
       "    </tr>\n",
       "  </tbody>\n",
       "</table>\n",
       "</div>"
      ],
      "text/plain": [
       "                 EventName         DeviceIDHash  EventTimestamp  ExpId\n",
       "0         MainScreenAppear  4575588528974610257      1564029816    246\n",
       "1         MainScreenAppear  7416695313311560658      1564053102    246\n",
       "2  PaymentScreenSuccessful  3518123091307005509      1564054127    248\n",
       "3         CartScreenAppear  3518123091307005509      1564054127    248\n",
       "4  PaymentScreenSuccessful  6217807653094995999      1564055322    248"
      ]
     },
     "metadata": {},
     "output_type": "display_data"
    },
    {
     "name": "stdout",
     "output_type": "stream",
     "text": [
      "\n",
      "<class 'pandas.core.frame.DataFrame'>\n",
      "RangeIndex: 244126 entries, 0 to 244125\n",
      "Data columns (total 4 columns):\n",
      "EventName         244126 non-null object\n",
      "DeviceIDHash      244126 non-null int64\n",
      "EventTimestamp    244126 non-null int64\n",
      "ExpId             244126 non-null int64\n",
      "dtypes: int64(3), object(1)\n",
      "memory usage: 7.5+ MB\n"
     ]
    }
   ],
   "source": [
    "df = pd.read_csv('https://code.s3.yandex.net/datasets/logs_exp.csv', sep='\\t')\n",
    "display(df.head())\n",
    "print()\n",
    "df.info()"
   ]
  },
  {
   "cell_type": "code",
   "execution_count": 4,
   "id": "33e2f14b",
   "metadata": {},
   "outputs": [],
   "source": [
    "df.columns = ['event_name', 'user_id', 'event_datetime', 'group_id']"
   ]
  },
  {
   "cell_type": "code",
   "execution_count": 5,
   "id": "88395692",
   "metadata": {},
   "outputs": [
    {
     "data": {
      "text/plain": [
       "MainScreenAppear           119205\n",
       "OffersScreenAppear          46825\n",
       "CartScreenAppear            42731\n",
       "PaymentScreenSuccessful     34313\n",
       "Tutorial                     1052\n",
       "Name: event_name, dtype: int64"
      ]
     },
     "execution_count": 5,
     "metadata": {},
     "output_type": "execute_result"
    }
   ],
   "source": [
    "# nous découvrons le nombre d'événements uniques\n",
    "df['event_name'].value_counts()"
   ]
  },
  {
   "cell_type": "code",
   "execution_count": 6,
   "id": "c373d091",
   "metadata": {},
   "outputs": [
    {
     "data": {
      "text/html": [
       "<div>\n",
       "<style scoped>\n",
       "    .dataframe tbody tr th:only-of-type {\n",
       "        vertical-align: middle;\n",
       "    }\n",
       "\n",
       "    .dataframe tbody tr th {\n",
       "        vertical-align: top;\n",
       "    }\n",
       "\n",
       "    .dataframe thead th {\n",
       "        text-align: right;\n",
       "    }\n",
       "</style>\n",
       "<table border=\"1\" class=\"dataframe\">\n",
       "  <thead>\n",
       "    <tr style=\"text-align: right;\">\n",
       "      <th></th>\n",
       "      <th>event_name</th>\n",
       "      <th>user_id</th>\n",
       "      <th>event_datetime</th>\n",
       "      <th>group_id</th>\n",
       "      <th>date</th>\n",
       "    </tr>\n",
       "  </thead>\n",
       "  <tbody>\n",
       "    <tr>\n",
       "      <td>0</td>\n",
       "      <td>MainScreenAppear</td>\n",
       "      <td>4575588528974610257</td>\n",
       "      <td>2019-07-25 04:43:36</td>\n",
       "      <td>246</td>\n",
       "      <td>2019-07-25</td>\n",
       "    </tr>\n",
       "    <tr>\n",
       "      <td>1</td>\n",
       "      <td>MainScreenAppear</td>\n",
       "      <td>7416695313311560658</td>\n",
       "      <td>2019-07-25 11:11:42</td>\n",
       "      <td>246</td>\n",
       "      <td>2019-07-25</td>\n",
       "    </tr>\n",
       "    <tr>\n",
       "      <td>2</td>\n",
       "      <td>PaymentScreenSuccessful</td>\n",
       "      <td>3518123091307005509</td>\n",
       "      <td>2019-07-25 11:28:47</td>\n",
       "      <td>248</td>\n",
       "      <td>2019-07-25</td>\n",
       "    </tr>\n",
       "    <tr>\n",
       "      <td>3</td>\n",
       "      <td>CartScreenAppear</td>\n",
       "      <td>3518123091307005509</td>\n",
       "      <td>2019-07-25 11:28:47</td>\n",
       "      <td>248</td>\n",
       "      <td>2019-07-25</td>\n",
       "    </tr>\n",
       "    <tr>\n",
       "      <td>4</td>\n",
       "      <td>PaymentScreenSuccessful</td>\n",
       "      <td>6217807653094995999</td>\n",
       "      <td>2019-07-25 11:48:42</td>\n",
       "      <td>248</td>\n",
       "      <td>2019-07-25</td>\n",
       "    </tr>\n",
       "  </tbody>\n",
       "</table>\n",
       "</div>"
      ],
      "text/plain": [
       "                event_name              user_id      event_datetime  group_id  \\\n",
       "0         MainScreenAppear  4575588528974610257 2019-07-25 04:43:36       246   \n",
       "1         MainScreenAppear  7416695313311560658 2019-07-25 11:11:42       246   \n",
       "2  PaymentScreenSuccessful  3518123091307005509 2019-07-25 11:28:47       248   \n",
       "3         CartScreenAppear  3518123091307005509 2019-07-25 11:28:47       248   \n",
       "4  PaymentScreenSuccessful  6217807653094995999 2019-07-25 11:48:42       248   \n",
       "\n",
       "         date  \n",
       "0  2019-07-25  \n",
       "1  2019-07-25  \n",
       "2  2019-07-25  \n",
       "3  2019-07-25  \n",
       "4  2019-07-25  "
      ]
     },
     "execution_count": 6,
     "metadata": {},
     "output_type": "execute_result"
    }
   ],
   "source": [
    "# convertir les secondes en date et heure\n",
    "df['event_datetime'] = pd.to_datetime(df['event_datetime'], unit='s')\n",
    "\n",
    "# créons une colonne uniquement avec la date\n",
    "df['date'] = df['event_datetime'].dt.strftime('%Y-%m-%d')\n",
    "df.head()"
   ]
  },
  {
   "cell_type": "code",
   "execution_count": 14,
   "id": "8c399655",
   "metadata": {},
   "outputs": [],
   "source": [
    "df.to_csv('out.csv', index=False)"
   ]
  },
  {
   "cell_type": "code",
   "execution_count": 15,
   "id": "68b7bf8d",
   "metadata": {},
   "outputs": [
    {
     "name": "stdout",
     "output_type": "stream",
     "text": [
      "Temps de début de l'expérience: 2019-07-25 04:43:36\n",
      "Temps de fin de l'expérience: 2019-08-07 21:15:17\n"
     ]
    }
   ],
   "source": [
    "print(\"Temps de début de l'expérience:\", df['event_datetime'].min())\n",
    "print(\"Temps de fin de l'expérience:\", df['event_datetime'].max())"
   ]
  },
  {
   "cell_type": "code",
   "execution_count": 16,
   "id": "3342df94",
   "metadata": {
    "scrolled": false
   },
   "outputs": [
    {
     "name": "stdout",
     "output_type": "stream",
     "text": [
      "413\n",
      "<class 'pandas.core.frame.DataFrame'>\n",
      "Int64Index: 243713 entries, 0 to 244125\n",
      "Data columns (total 5 columns):\n",
      "event_name        243713 non-null object\n",
      "user_id           243713 non-null int64\n",
      "event_datetime    243713 non-null datetime64[ns]\n",
      "group_id          243713 non-null int64\n",
      "date              243713 non-null object\n",
      "dtypes: datetime64[ns](1), int64(2), object(2)\n",
      "memory usage: 11.2+ MB\n"
     ]
    }
   ],
   "source": [
    "# vérifions la présence de doublons\n",
    "print(df.duplicated().sum())\n",
    "\n",
    "# supprimons toutes les lignes en double\n",
    "df = df.drop_duplicates()\n",
    "df.info()"
   ]
  },
  {
   "cell_type": "code",
   "execution_count": 17,
   "id": "25e11b94",
   "metadata": {},
   "outputs": [
    {
     "data": {
      "text/plain": [
       "248    85582\n",
       "246    80181\n",
       "247    77950\n",
       "Name: group_id, dtype: int64"
      ]
     },
     "execution_count": 17,
     "metadata": {},
     "output_type": "execute_result"
    }
   ],
   "source": [
    "df['group_id'].value_counts()"
   ]
  },
  {
   "cell_type": "code",
   "execution_count": 18,
   "id": "d6a72e3e",
   "metadata": {},
   "outputs": [
    {
     "name": "stdout",
     "output_type": "stream",
     "text": [
      "Nombre d'utilisateurs uniques: 7551\n"
     ]
    }
   ],
   "source": [
    "print(\"Nombre d'utilisateurs uniques:\", df['user_id'].nunique())"
   ]
  },
  {
   "cell_type": "code",
   "execution_count": 19,
   "id": "6ca5d0a1",
   "metadata": {},
   "outputs": [
    {
     "name": "stdout",
     "output_type": "stream",
     "text": [
      "Nombre moyen d'événements par utilisateur: 32\n"
     ]
    }
   ],
   "source": [
    "print(\"Nombre moyen d'événements par utilisateur:\", \n",
    "      int(df.groupby('user_id')['event_name'].count().mean()))"
   ]
  },
  {
   "cell_type": "code",
   "execution_count": 20,
   "id": "cbf64945",
   "metadata": {},
   "outputs": [
    {
     "name": "stdout",
     "output_type": "stream",
     "text": [
      "Requirement already satisfied: seaborn in /Users/alinasajous/opt/anaconda3/lib/python3.8/site-packages (0.13.1)\n",
      "Requirement already satisfied: pandas>=1.2 in /Users/alinasajous/opt/anaconda3/lib/python3.8/site-packages (from seaborn) (1.4.1)\n",
      "Requirement already satisfied: matplotlib!=3.6.1,>=3.4 in /Users/alinasajous/opt/anaconda3/lib/python3.8/site-packages (from seaborn) (3.4.3)\n",
      "Requirement already satisfied: numpy!=1.24.0,>=1.20 in /Users/alinasajous/opt/anaconda3/lib/python3.8/site-packages (from seaborn) (1.22.2)\n",
      "Requirement already satisfied: pyparsing>=2.2.1 in /Users/alinasajous/opt/anaconda3/lib/python3.8/site-packages (from matplotlib!=3.6.1,>=3.4->seaborn) (2.4.7)\n",
      "Requirement already satisfied: pillow>=6.2.0 in /Users/alinasajous/opt/anaconda3/lib/python3.8/site-packages (from matplotlib!=3.6.1,>=3.4->seaborn) (8.3.1)\n",
      "Requirement already satisfied: cycler>=0.10 in /Users/alinasajous/opt/anaconda3/lib/python3.8/site-packages (from matplotlib!=3.6.1,>=3.4->seaborn) (0.10.0)\n",
      "Requirement already satisfied: kiwisolver>=1.0.1 in /Users/alinasajous/opt/anaconda3/lib/python3.8/site-packages (from matplotlib!=3.6.1,>=3.4->seaborn) (1.3.2)\n",
      "Requirement already satisfied: python-dateutil>=2.7 in /Users/alinasajous/opt/anaconda3/lib/python3.8/site-packages (from matplotlib!=3.6.1,>=3.4->seaborn) (2.8.2)\n",
      "Requirement already satisfied: six in /Users/alinasajous/opt/anaconda3/lib/python3.8/site-packages (from cycler>=0.10->matplotlib!=3.6.1,>=3.4->seaborn) (1.16.0)\n",
      "Requirement already satisfied: pytz>=2020.1 in /Users/alinasajous/opt/anaconda3/lib/python3.8/site-packages (from pandas>=1.2->seaborn) (2021.1)\n"
     ]
    }
   ],
   "source": [
    "!pip install -U seaborn"
   ]
  },
  {
   "cell_type": "code",
   "execution_count": 21,
   "id": "20d03782",
   "metadata": {},
   "outputs": [
    {
     "data": {
      "image/png": "[encoded data removed]",
      "text/plain": [
       "<Figure size 720x432 with 1 Axes>"
      ]
     },
     "metadata": {
      "needs_background": "light"
     },
     "output_type": "display_data"
    }
   ],
   "source": [
    "register_matplotlib_converters()\n",
    "\n",
    "plt.figure(figsize=(10, 6)) \n",
    "sns.set_context(\"notebook\", font_scale=1.25) #style du texte et taille des marques sur les axes\n",
    "\n",
    "hist = sns.histplot(df['event_datetime'])\n",
    "plt.xticks(rotation=25)\n",
    "hist.set_title('La quantité de données sur toute la période', fontsize=20)\n",
    "hist.set_ylabel('Quantité de données\"') \n",
    "hist.set_xlabel(\"\", fontsize=18); "
   ]
  },
  {
   "cell_type": "markdown",
   "id": "16b40152",
   "metadata": {},
   "source": [
    "\n",
    "De l'histogramme, on peut voir que la quantité de données est répartie de manière inégale. En tenant compte de cela, nous allons effectuer une découpe par date."
   ]
  },
  {
   "cell_type": "code",
   "execution_count": 22,
   "id": "81f3b6c9",
   "metadata": {},
   "outputs": [],
   "source": [
    "df_slice = df.query('event_datetime >= \"2019-07-31 21:00:00\"')"
   ]
  },
  {
   "cell_type": "code",
   "execution_count": 23,
   "id": "8dc14021",
   "metadata": {},
   "outputs": [
    {
     "data": {
      "image/png": "[encoded data removed]",
      "text/plain": [
       "<Figure size 720x432 with 1 Axes>"
      ]
     },
     "metadata": {
      "needs_background": "light"
     },
     "output_type": "display_data"
    }
   ],
   "source": [
    "plt.figure(figsize=(10, 6))\n",
    "sns.set_context(\"notebook\", font_scale=1.25)\n",
    "\n",
    "hist_date = sns.histplot(data = df_slice,\n",
    "                         x='event_datetime', \n",
    "                         hue= 'event_name', \n",
    "                         multiple=\"stack\")\n",
    "plt.xticks(rotation=25)\n",
    "hist_date.set_title('La quantité de données de 21h00 le 31 août à 21:15:17 le 8 août', fontsize=20) \n",
    "hist_date.set_ylabel('Quantité de données', fontsize=18)  \n",
    "hist_date.set_xlabel(\"\", fontsize=18) \n",
    "sns.move_legend(hist_date, \"upper left\", bbox_to_anchor=(1, 1)); "
   ]
  },
  {
   "cell_type": "markdown",
   "id": "17b61d80",
   "metadata": {},
   "source": [
    "Nous allons déterminer combien d'événements et d'utilisateurs nous avons perdus en éliminant les données."
   ]
  },
  {
   "cell_type": "code",
   "execution_count": 24,
   "id": "8da4a172",
   "metadata": {},
   "outputs": [
    {
     "name": "stdout",
     "output_type": "stream",
     "text": [
      "Pourcentage d'événements conservés après la suppression des données : 99.18 %\n"
     ]
    }
   ],
   "source": [
    "print(\"Pourcentage d'événements conservés après la suppression des données :\",\n",
    "      round(df_slice[\"event_name\"].count()/df['event_name'].count()*100, 2), \"%\")"
   ]
  },
  {
   "cell_type": "code",
   "execution_count": 25,
   "id": "a989311f",
   "metadata": {},
   "outputs": [
    {
     "name": "stdout",
     "output_type": "stream",
     "text": [
      "Pourcentage d'utilisateurs uniques conservés après la suppression des données : 99.83 %\n"
     ]
    }
   ],
   "source": [
    "print(\"Pourcentage d'utilisateurs uniques conservés après la suppression des données :\",\n",
    "      round(df_slice['user_id'].nunique()/df['user_id'].nunique()*100, 2), \"%\")"
   ]
  },
  {
   "cell_type": "code",
   "execution_count": 26,
   "id": "c362059b",
   "metadata": {},
   "outputs": [
    {
     "data": {
      "text/plain": [
       "248    84875\n",
       "246    79556\n",
       "247    77293\n",
       "Name: group_id, dtype: int64"
      ]
     },
     "execution_count": 26,
     "metadata": {},
     "output_type": "execute_result"
    }
   ],
   "source": [
    "df_slice['group_id'].value_counts()"
   ]
  },
  {
   "cell_type": "markdown",
   "id": "d7a10131",
   "metadata": {},
   "source": [
    "## Conclusion <a id=\"result\"></a>"
   ]
  },
  {
   "cell_type": "markdown",
   "id": "352630f7",
   "metadata": {},
   "source": [
    "\n",
    "- Après avoir examiné les données, 5 événements ont été identifiés, répartis en 3 groupes expérimentaux, avec un total de 7551 utilisateurs uniques.\n",
    "- Le nombre moyen d'événements par utilisateur est de 32.\n",
    "- L'expérience a été menée du 25 juillet 2019 à 04h43m36s au 7 août 2019 à 21h15m17s.\n",
    "- Les doublons ont été détectés et supprimés des données, et les colonnes ont été renommées.\n",
    "- Le type de données de la colonne \"event_date\" a été converti en type temporel, et une nouvelle colonne \"date\" a été créée.\n",
    "- En se basant sur l'histogramme de la distribution temporelle des données, il a été décidé de faire une sélection des données de 2019-07-31 21:00:00 à 2019-08-07 21:15:17, car c'était la période où le nombre d'événements était uniforme.\n",
    "- Il a été constaté que ce nouveau jeu de données représente entre 99 et 99,5 % du nombre initial de données, en fonction de l'événement.\n",
    "- Le nombre d'utilisateurs uniques représente 99,7 % du nombre initial.\n",
    "- Le nombre d'événements représente 99,18 % des données initiales. Ainsi, les pertes peuvent être considérées comme négligeables, car elles sont inférieures à 1 %."
   ]
  },
  {
   "cell_type": "markdown",
   "id": "72296c29",
   "metadata": {},
   "source": [
    "# Analyse des entonnoirs <a id=\"funnel\"></a>"
   ]
  },
  {
   "cell_type": "markdown",
   "id": "f313a73e",
   "metadata": {},
   "source": [
    "**1. Examinons les événements présents dans les journaux, à quelle fréquence ils se produisent. Trierons les événements par fréquence.**"
   ]
  },
  {
   "cell_type": "code",
   "execution_count": null,
   "id": "a76ae8c2",
   "metadata": {},
   "outputs": [],
   "source": [
    "df_slice.head()\n"
   ]
  },
  {
   "cell_type": "code",
   "execution_count": null,
   "id": "cec1cb14",
   "metadata": {},
   "outputs": [],
   "source": [
    "event_number = df_slice\\\n",
    "    .groupby(\"event_name\", as_index=False)\\\n",
    "    .agg({\"event_datetime\":\"count\"})\\\n",
    "    .rename(columns={\"event_datetime\":\"n_events\"})\n",
    "\n",
    "event_number.sort_values(by=\"n_events\", ascending=False)"
   ]
  },
  {
   "cell_type": "code",
   "execution_count": null,
   "id": "2b20d2b6",
   "metadata": {},
   "outputs": [],
   "source": [
    "# excluons le Tutorial de la liste des événements\n",
    "event_number_x = event_number.query('event_name != \"Tutorial\"')\n",
    "event_number_x"
   ]
  },
  {
   "cell_type": "code",
   "execution_count": null,
   "id": "460f31e6",
   "metadata": {},
   "outputs": [],
   "source": [
    "fig = go.Figure(\n",
    "    go.Funnel(\n",
    "    y = event_number_x[\"event_name\"],\n",
    "    x = event_number_x['n_events']\n",
    "    )\n",
    ")\n",
    "# ajoutons le titre du graphique au centre\n",
    "fig.update_layout(title_text=\"Nombre de vues/affichages d'événements\", \n",
    "                  height=500,\n",
    "                  title_x=0.5)\n",
    "fig.show()"
   ]
  },
  {
   "cell_type": "markdown",
   "id": "db0b87ef",
   "metadata": {},
   "source": [
    "- L'événement le plus fréquent est l'apparition de l'écran principal (MainScreenAppear). Cela s'est produit 117 889 fois.\n",
    "- Le deuxième événement le plus fréquent est l'apparition de l'écran du catalogue des produits (OffersScreenAppear). Cela s'est produit 46 531 fois.\n",
    "- Le troisième événement est l'apparition de l'écran du panier (CartScreenAppear). Cela s'est produit 42 343 fois.\n",
    "- Le quatrième événement est l'apparition de l'écran de paiement réussi (PaymentScreenSuccessful). Cela s'est produit 33 951 fois."
   ]
  },
  {
   "cell_type": "markdown",
   "id": "075ece35",
   "metadata": {},
   "source": [
    "**2. Découvrons combien d'utilisateurs ont effectué chacun de ces événements. Nous trierons les événements par le nombre d'utilisateurs. Ensuite, nous calculerons la part d'utilisateurs qui ont effectué l'événement au moins une fois.**"
   ]
  },
  {
   "cell_type": "code",
   "execution_count": null,
   "id": "6baa5cab",
   "metadata": {
    "scrolled": false
   },
   "outputs": [],
   "source": [
    "# сréons un tableau avec le nombre d'actions et le nombre d'utilisateurs uniques pour chaque événement\n",
    "events = (\n",
    "    df_slice.groupby('event_name')['user_id']\n",
    "    .agg(['count', 'nunique'])\n",
    "    .reset_index()\n",
    "    .sort_values(by='nunique', ascending=False)\n",
    ")\n",
    "events.columns = ['event_name', 'n_events', 'n_users']\n",
    "events"
   ]
  },
  {
   "cell_type": "code",
   "execution_count": null,
   "id": "ea452125",
   "metadata": {},
   "outputs": [],
   "source": [
    "names = events.sort_values('n_events', ascending=False).reset_index(drop=True)['event_name']\n",
    "names"
   ]
  },
  {
   "cell_type": "code",
   "execution_count": null,
   "id": "ff666c79",
   "metadata": {},
   "outputs": [],
   "source": [
    "# nombre total d'utilisateurs uniques\n",
    "users_all = df_slice['user_id'].nunique()\n",
    "users_all"
   ]
  },
  {
   "cell_type": "code",
   "execution_count": null,
   "id": "b5cf5948",
   "metadata": {
    "scrolled": true
   },
   "outputs": [],
   "source": [
    "# la proportion d'utilisateurs ayant effectué au moins une fois des actions\n",
    "events['part'] = (events['n_users'] / users_all * 100).round(1)\n",
    "events"
   ]
  },
  {
   "cell_type": "code",
   "execution_count": null,
   "id": "e616c680",
   "metadata": {
    "scrolled": true
   },
   "outputs": [],
   "source": [
    "plt.figure(figsize=(14, 7))\n",
    "ax_part = sns.barplot(y=['Écran principal', 'Écran des offres', 'Panier', \n",
    "                         'Écran de paiement réussi', 'Tutoriel'],\n",
    "                      x='part', \n",
    "                      data=events, \n",
    "                      palette=\"Spectral\")\n",
    "\n",
    "for p in ax_part.patches:\n",
    "    ax_part.annotate(\"%.1f\" % p.get_width(), xy=(p.get_width(), p.get_y()+p.get_height()/2),\n",
    "            xytext=(3, 0), textcoords='offset points', ha=\"left\", va=\"center\")\n",
    "    \n",
    "        \n",
    "ax_part.set_title(\"La proportion d'utilisateurs ayant visité l'écran au moins une fois\", fontsize=20)\n",
    "ax_part.set_ylabel('')\n",
    "ax_part.set_xlabel(\"La proportion d'utilisateurs, %\", fontsize=18);"
   ]
  },
  {
   "cell_type": "code",
   "execution_count": null,
   "id": "7b12e234",
   "metadata": {},
   "outputs": [],
   "source": [
    "events1 = events.query('event_name != \"Tutorial\"')\n",
    "events1"
   ]
  },
  {
   "cell_type": "code",
   "execution_count": null,
   "id": "d668a71d",
   "metadata": {},
   "outputs": [],
   "source": [
    "fig_1 = go.Figure(\n",
    "    go.Funnel(\n",
    "    y = ['Écran principal ', 'Écran des offres ', 'Panier ', 'Écran de paiement réussi '],\n",
    "    x = events1['n_users']\n",
    "    )\n",
    ")\n",
    "\n",
    "# ajoutons le titre du graphique au centre\n",
    "fig_1.update_layout(title_text=\"Nombre d'utilisateurs ayant visité l'écran\", \n",
    "                  height=500,\n",
    "                  title_x=0.5)\n",
    "fig_1.show()"
   ]
  },
  {
   "cell_type": "markdown",
   "id": "1e37197b",
   "metadata": {},
   "source": [
    "Du graphique, on peut déduire:\n",
    "\n",
    "- 7243 utilisateurs ont ouvert l'écran principal (98,5 % par rapport au nombre total d'utilisateurs);\n",
    "- 4597 utilisateurs ont consulté la page du catalogue des offres (61 %);\n",
    "- 3736 utilisateurs ont ouvert le panier (49,6 %);\n",
    "- 3540 utilisateurs ont vu la page de \"paiement réussi\" (47 %).\n",
    "\n",
    "Probablement, les événements se déroulent dans l'ordre suivant : \"Écran principal\" => \"Écran des offres\" => \"Panier\" => \"Paiement réussi\".\n",
    "\n",
    "\n",
    "\"Tutorial\" peut probablement être consulté à n'importe quelle étape après avoir consulté \"l'écran principal\". C'est pourquoi nous l'avons exclu du tunnel."
   ]
  },
  {
   "cell_type": "markdown",
   "id": "b1fbb3ef",
   "metadata": {},
   "source": [
    "## Conclusion <a id=\"result_funnel\"></a>\n",
    "\n",
    "À partir de l'analyse de l'entonnoir d'événements, les conclusions suivantes ont été tirées :\n",
    "\n",
    "- L'événement le plus fréquent est l'apparition de l'écran principal (MainScreenAppear). Il s'est produit 117 889 fois ;\n",
    "- Près de 40% des utilisateurs n'avancent pas au-delà de la consultation de l'écran principal. Il est probablement nécessaire de mieux travailler sur la mécanique de l'écran principal afin que les utilisateurs accèdent à l'écran des offres;\n",
    "- Seulement 11,2% du nombre total d'utilisateurs ont consulté l'écran \"Tutorial\"."
   ]
  },
  {
   "cell_type": "markdown",
   "id": "6769ec06",
   "metadata": {},
   "source": [
    "# A/B Testing <a id=\"aab_test\"></a>"
   ]
  },
  {
   "cell_type": "markdown",
   "id": "d2b9d063",
   "metadata": {},
   "source": [
    "Nous déterminerons le nombre d'utilisateurs dans chaque groupe expérimental.\n",
    "\n",
    "246 et 247 sont les groupes de contrôle, tandis que 248 est le groupe expérimental."
   ]
  },
  {
   "cell_type": "markdown",
   "id": "98e7ff33",
   "metadata": {},
   "source": [
    "**1. Vérifions la différence statistique entre le groupe 246 et le groupe 247.**"
   ]
  },
  {
   "cell_type": "code",
   "execution_count": null,
   "id": "ba77de18",
   "metadata": {},
   "outputs": [],
   "source": [
    "# le nombre d'utilisateurs uniques dans chaque groupe\"\n",
    "group_count_users = df_slice.groupby('group_id', as_index=False).agg({'user_id':'nunique'})\n",
    "group_count_users"
   ]
  },
  {
   "cell_type": "code",
   "execution_count": null,
   "id": "e8458fea",
   "metadata": {
    "scrolled": true
   },
   "outputs": [],
   "source": [
    "event_pivot = (df_slice\n",
    "               .groupby(['event_name','group_id'], as_index=False)\n",
    "               .agg({'user_id': ['count', 'nunique']})\n",
    ")\n",
    "\n",
    "event_pivot.columns = ['event_name','group_id', 'n_events', 'n_users']\n",
    "event_pivot"
   ]
  },
  {
   "cell_type": "code",
   "execution_count": null,
   "id": "17633847",
   "metadata": {},
   "outputs": [],
   "source": [
    "event_pivot_246 = event_pivot.query('group_id == \"246\"')\n",
    "event_pivot_247 = event_pivot.query('group_id == \"247\"')\n",
    "event_pivot_248 = event_pivot.query('group_id == \"248\"')\n",
    "all_pivot_group = [event_pivot_246, event_pivot_247, event_pivot_248]"
   ]
  },
  {
   "cell_type": "code",
   "execution_count": null,
   "id": "91bcc823",
   "metadata": {},
   "outputs": [],
   "source": [
    "for i in event_pivot_246['n_users']:\n",
    "        event_pivot_246['part'] = (event_pivot_246['n_users'] / 2484 * 100).round(1)\n",
    "print(event_pivot_246)\n",
    "print('')\n",
    "\n",
    "for i in event_pivot_247['n_users']:\n",
    "        event_pivot_247['part'] = (event_pivot_247['n_users'] / 2517 * 100).round(1)\n",
    "print(event_pivot_247)\n",
    "print('')\n",
    "\n",
    "for i in event_pivot_248['n_users']:\n",
    "        event_pivot_248['part'] = (event_pivot_248['n_users'] / 2537 * 100).round(1)\n",
    "print(event_pivot_248)\n",
    "print('')"
   ]
  },
  {
   "cell_type": "code",
   "execution_count": null,
   "id": "ec31c5f8",
   "metadata": {},
   "outputs": [],
   "source": [
    "event_pivot_group_control = event_pivot_246.append(event_pivot_247)\n",
    "event_pivot_all = event_pivot_group_control.append(event_pivot_248)\n",
    "event_pivot_all"
   ]
  },
  {
   "cell_type": "markdown",
   "id": "41e01ecb",
   "metadata": {},
   "source": [
    "Nous allons vérifier l'hypothèse suivante :\n",
    "\n",
    "H0 : Il n'y a pas de différence entre les proportions des groupes 246 et 247.\n",
    "\n",
    "H1 : Il y a des différences entre les proportions des deux groupes."
   ]
  },
  {
   "cell_type": "code",
   "execution_count": null,
   "id": "69d0843a",
   "metadata": {},
   "outputs": [],
   "source": [
    "groups = [246, 247, 248]\n",
    "\n",
    "# создадим список события для всех кроме руководства\n",
    "no_tutorial = (events[events['event_name'] != 'Tutorial']\n",
    "         .sort_values('n_events', ascending=False)['event_name']\n",
    "         .reset_index(drop=True))\n",
    "no_tutorial"
   ]
  },
  {
   "cell_type": "code",
   "execution_count": null,
   "id": "73dda676",
   "metadata": {},
   "outputs": [],
   "source": [
    "events['event_name']"
   ]
  },
  {
   "cell_type": "code",
   "execution_count": null,
   "id": "cd48d61c",
   "metadata": {},
   "outputs": [],
   "source": [
    "n_users_group = {'all': df_slice['user_id'].nunique(), \n",
    "           246: df_slice[df_slice['group_id']==246]['user_id'].nunique(),\n",
    "           247: df_slice[df_slice['group_id']==247]['user_id'].nunique(),\n",
    "           248: df_slice[df_slice['group_id']==248]['user_id'].nunique(),\n",
    "           '246+247': df_slice[(df_slice['group_id']==246) | (df_slice['group_id']==247)]['user_id'].nunique()}\n",
    "n_users_group"
   ]
  },
  {
   "cell_type": "code",
   "execution_count": null,
   "id": "b1dd3d2c",
   "metadata": {},
   "outputs": [],
   "source": [
    "# créons un tableau avec le nombre d'utilisateurs uniques dans chaque groupe pour chaque événement\n",
    "n_users_by_event = {}\n",
    "for group in groups:\n",
    "    n_users_by_event[group] =[]\n",
    "    for event in no_tutorial:\n",
    "        n_users_by_event[group].append(df_slice[(df_slice['group_id'] == group) & \n",
    "                                             (df_slice['event_name'] == event)]['user_id'].nunique())\n",
    "n_users_by_event = pd.DataFrame(n_users_by_event)\n",
    "n_users_by_event['246+247'] = n_users_by_event[246] + n_users_by_event[247]\n",
    "n_users_by_event['event_name'] = no_tutorial\n",
    "n_users_by_event"
   ]
  },
  {
   "cell_type": "code",
   "execution_count": null,
   "id": "bf5aee8e",
   "metadata": {},
   "outputs": [],
   "source": [
    "# la fonction de test Z pour comparer chaque paire de groupes\n",
    "def z_test(first_group, second_group, alpha):\n",
    "    for i in n_users_by_event.index:\n",
    "        #alpha = alpha\n",
    "        p1 = n_users_by_event[first_group][i] / n_users_group[first_group]\n",
    "        # le taux de succès dans le deuxième groupe:\n",
    "        p2 = n_users_by_event[second_group][i] / n_users_group[second_group]\n",
    "        # le taux de succès dans 2 groups combiné:\n",
    "        p_combined = ((n_users_by_event[first_group][i] + n_users_by_event[second_group][i]) / \n",
    "                      (n_users_group[first_group] + n_users_group[second_group]))\n",
    "        \n",
    "        # différence de proportions\n",
    "        difference = p1 - p2\n",
    "        \n",
    "        z_value = difference / mth.sqrt(p_combined * (1 - p_combined) * \\\n",
    "                                        (1/n_users_group[first_group] + 1/n_users_group[second_group]))\n",
    "        \n",
    "        # définissons une distribution normale standard (moyenne 0, écart-type 1).\n",
    "        distr = st.norm(0, 1) \n",
    "        p_value = round((1 - distr.cdf(abs(z_value))) * 2, 2)\n",
    "        print('{} Valeur p: {}'.format(n_users_by_event['event_name'][i], p_value))\n",
    "        if (p_value < alpha):\n",
    "            print(\"Nous rejetons l'hypothèse nulle : il y a une différence significative entre les proportions\")\n",
    "        else:\n",
    "            print(\"Nous n'avons pas pu rejeter l'hypothèse nulle\")\n",
    "            print(\"Il n'y a pas de raison de considérer les proportions comme différentes.\")\n",
    "        print('')"
   ]
  },
  {
   "cell_type": "markdown",
   "id": "3c96b983",
   "metadata": {},
   "source": [
    "Pour réduire la probabilité de faux positifs lors de tests multiples d'hypothèses, nous pouvons appliquer la méthode de correction du niveau de signification pour réduire le FWER (Erreur de première espèce globale) - l'ajustement de Bonferroni."
   ]
  },
  {
   "cell_type": "code",
   "execution_count": null,
   "id": "ed5c51ff",
   "metadata": {},
   "outputs": [],
   "source": [
    "alpha = 0.1"
   ]
  },
  {
   "cell_type": "code",
   "execution_count": null,
   "id": "4d5c5555",
   "metadata": {},
   "outputs": [],
   "source": [
    "alpha_bonff = alpha / 20\n",
    "alpha_bonff"
   ]
  },
  {
   "cell_type": "code",
   "execution_count": null,
   "id": "69edde94",
   "metadata": {},
   "outputs": [],
   "source": [
    "z_test(246, 247 , alpha_bonff)"
   ]
  },
  {
   "cell_type": "markdown",
   "id": "f4f07f5f",
   "metadata": {},
   "source": [
    "\n",
    "Pour aucun des événements, la différence n'était significative. Par conséquent, la division en groupes était correcte."
   ]
  },
  {
   "cell_type": "code",
   "execution_count": null,
   "id": "27156647",
   "metadata": {},
   "outputs": [],
   "source": [
    "# Vérifions l'hypothèse avec un niveau de signification de 0,1\n",
    "z_test(246, 247 , alpha)"
   ]
  },
  {
   "cell_type": "markdown",
   "id": "00e30ee7",
   "metadata": {},
   "source": [
    "\n",
    "En utilisant un niveau de signification plus élevé, la division est également considérée comme correcte."
   ]
  },
  {
   "cell_type": "code",
   "execution_count": null,
   "id": "9084715b",
   "metadata": {
    "scrolled": true
   },
   "outputs": [],
   "source": [
    "event_pivot_group_control = event_pivot_group_control.sort_values(by='n_events', ascending=False)\n",
    "event_pivot_group_control"
   ]
  },
  {
   "cell_type": "code",
   "execution_count": null,
   "id": "4f979bf7",
   "metadata": {},
   "outputs": [],
   "source": [
    "plt.figure(figsize=(14, 7))\n",
    "bx_part = sns.barplot(y= 'event_name',\n",
    "                      x='part', \n",
    "                      hue='group_id',\n",
    "                      data=event_pivot_group_control)\n",
    "for p in bx_part.patches:\n",
    "    bx_part.annotate(\"%.1f\" % p.get_width(), xy=(p.get_width(), p.get_y()+p.get_height()/2),\n",
    "            xytext=(1, 0), textcoords='offset points', ha=\"left\", va=\"center\")\n",
    "    \n",
    "        \n",
    "bx_part.set_title(\"Le pourcentage d'utilisateurs du groupe ayant effectué l'événement\", fontsize=20)\n",
    "bx_part.set_ylabel('')\n",
    "bx_part.set_xlabel(\"Part du nombre total d'utilisateurs, %\", fontsize = 18);"
   ]
  },
  {
   "cell_type": "markdown",
   "id": "66d086ee",
   "metadata": {},
   "source": [
    "**2. Vérifions la différence statistique entre le groupe 246 et le groupe 248**"
   ]
  },
  {
   "cell_type": "markdown",
   "id": "156b6467",
   "metadata": {},
   "source": [
    "\n",
    "Nous allons vérifier l'hypothèse suivante :\n",
    "\n",
    "H0 : Il n'y a pas de différence entre les proportions des groupes 246 et 248.\n",
    "\n",
    "N1 : Il y a des différences entre les proportions des deux groupes."
   ]
  },
  {
   "cell_type": "code",
   "execution_count": null,
   "id": "16cbfe6c",
   "metadata": {},
   "outputs": [],
   "source": [
    "z_test(246, 248 , alpha_bonff)"
   ]
  },
  {
   "cell_type": "markdown",
   "id": "050df143",
   "metadata": {},
   "source": [
    "\n",
    "Pour aucun des événements, la différence n'était significative. Par conséquent, les proportions du groupe 246 et du groupe 248 ne sont pas statistiquement différentes."
   ]
  },
  {
   "cell_type": "code",
   "execution_count": null,
   "id": "89c136d3",
   "metadata": {},
   "outputs": [],
   "source": [
    "# Vérifions l'hypothèse avec un niveau de signification de 0,1\n",
    "z_test(246, 248 , alpha)"
   ]
  },
  {
   "cell_type": "markdown",
   "id": "e4e4323f",
   "metadata": {},
   "source": [
    "\n",
    "Nous constatons qu'il existe une différence statistiquement significative entre les groupes pour l'événement \"Ajout au panier\". Par conséquent, il est préférable d'utiliser notre niveau de signification initial."
   ]
  },
  {
   "cell_type": "markdown",
   "id": "5af3d9f9",
   "metadata": {},
   "source": [
    "**3. Vérifions la différence statistique entre le groupe 247 et le groupe 248**"
   ]
  },
  {
   "cell_type": "markdown",
   "id": "91b3f87f",
   "metadata": {},
   "source": [
    "Nous allons vérifier l'hypothèse suivante :\n",
    "\n",
    "H0 : Il n'y a pas de différence entre les proportions des groupes 247 et 248.\n",
    "\n",
    "N1 : Il y a des différences entre les proportions des deux groupes."
   ]
  },
  {
   "cell_type": "code",
   "execution_count": null,
   "id": "893d1e57",
   "metadata": {},
   "outputs": [],
   "source": [
    "z_test(247, 248 , alpha_bonff)"
   ]
  },
  {
   "cell_type": "markdown",
   "id": "d7b3000a",
   "metadata": {},
   "source": [
    "\n",
    "Pour aucun des événements, la différence n'était significative. Par conséquent, les proportions du groupe 247 et du groupe 248 ne sont pas statistiquement différentes."
   ]
  },
  {
   "cell_type": "code",
   "execution_count": null,
   "id": "8cbeacc6",
   "metadata": {
    "scrolled": true
   },
   "outputs": [],
   "source": [
    "# Vérifions l'hypothèse avec un niveau de signification de 0,1\n",
    "z_test(247, 248 , alpha)"
   ]
  },
  {
   "cell_type": "markdown",
   "id": "0d54f96e",
   "metadata": {},
   "source": [
    "\n",
    "En utilisant un niveau de signification plus élevé, la division est également considérée comme correcte."
   ]
  },
  {
   "cell_type": "markdown",
   "id": "59f5a559",
   "metadata": {},
   "source": [
    "**4. Vérifions la différence statistique entre le groupe combiné 246 et 247 avec le groupe 248.**"
   ]
  },
  {
   "cell_type": "markdown",
   "id": "87ca8f20",
   "metadata": {},
   "source": [
    "\n",
    "Nous allons vérifier l'hypothèse suivante :\n",
    "\n",
    "H0 : Il n'y a pas de différence entre les proportions des groupes 246 + 247 et 248.\n",
    "\n",
    "N1 : Il y a des différences entre les proportions des deux groupes."
   ]
  },
  {
   "cell_type": "code",
   "execution_count": null,
   "id": "69908502",
   "metadata": {},
   "outputs": [],
   "source": [
    "z_test('246+247', 248 , alpha_bonff)"
   ]
  },
  {
   "cell_type": "markdown",
   "id": "9ff961b6",
   "metadata": {},
   "source": [
    "Le groupe de contrôle combiné n'a également montré aucune différence significative par rapport au groupe expérimental 248. Au total, 20 tests d'hypothèses statistiques ont été effectués."
   ]
  },
  {
   "cell_type": "code",
   "execution_count": null,
   "id": "47a0bebb",
   "metadata": {},
   "outputs": [],
   "source": [
    "# Vérifions l'hypothèse avec un niveau de signification de 0,1\n",
    "z_test('246+247', 248 , alpha)"
   ]
  },
  {
   "cell_type": "markdown",
   "id": "e7093dfe",
   "metadata": {},
   "source": [
    "\n",
    "En utilisant un niveau de signification plus élevé, la division est également considérée comme correcte."
   ]
  },
  {
   "cell_type": "markdown",
   "id": "60fdcf0c",
   "metadata": {},
   "source": [
    "## Conclusion <a id=\"result_total\"></a>"
   ]
  },
  {
   "cell_type": "markdown",
   "id": "4d7b2fbb",
   "metadata": {},
   "source": [
    "Ce projet comprend 5 événements/pages dans l'application auxquels les utilisateurs ont accédé du 25 juillet 2019 à 04:43:36 au 7 août 2019 à 21:15:17. Tous les utilisateurs ont été répartis en 3 groupes : 2 groupes de contrôle et 1 groupe expérimental. L'idée de l'expérience était de déterminer si la nouvelle police de caractères proposée par les designers dissuaderait les utilisateurs.\n",
    "\n",
    "Tout d'abord, une préparation des données pour l'analyse a été réalisée : changement du type de données et renommage des colonnes.\n",
    "\n",
    "En construisant un histogramme par date et heure, la décision a été prise de ne conserver que les données de 2019-07-31 21:00:00 à 2019-08-07 21:15:17, car elles reflètent des résultats uniformes de l'étude. Le nouveau jeu de données contient plus de 99 % du nombre initial de données.\n",
    "\n",
    "Ensuite, un entonnoir d'événements a été construit, révélant que :\n",
    "\n",
    "- L'événement le plus fréquent est l'apparition de l'écran principal (MainScreenAppear). Il s'est produit 117 889 fois ;\n",
    "- Près de 40% des utilisateurs n'avancent pas au-delà de la consultation de l'écran principal. Il est probablement nécessaire de mieux travailler sur la mécanique de l'écran principal afin que les utilisateurs accèdent à l'écran des offres;\n",
    "- Seulement 11,2% du nombre total d'utilisateurs ont consulté l'écran \"Tutorial\".\n",
    "\n",
    "La partie finale de l'étude a impliqué l'analyse d'un A/B-testing. \n",
    "Au total, 20 tests d'hypothèses statistiques ont été effectués avec un niveau de signification alpha basé sur la correction de Bonferroni, soit 0,005. Les hypothèses ont été testées pour chaque événement, c'est-à-dire chaque page de l'application. Toutes les hypothèses ont montré qu'il n'y avait aucune différence significative entre les groupes de contrôle ou entre les groupes de contrôle et le groupe expérimental. Cela indique que le modification de police n'a apporté aucune changement sur le comportement des utilisateurs. \n",
    "Les utilisateurs passent d'une page à l'autre dans la même proportion. Cela signifie que changer la police de caractères n'entraînera pas une plus grande quantité d'utilisateurs à effectuer un achat. Par conséquent, le problème de la perte d'utilisateurs doit être recherché ailleurs."
   ]
  }
 ],
 "metadata": {
  "ExecuteTimeLog": [
   {
    "duration": 1470,
    "start_time": "2021-12-30T10:48:55.085Z"
   },
   {
    "duration": 5,
    "start_time": "2021-12-30T10:48:56.557Z"
   },
   {
    "duration": 1042,
    "start_time": "2021-12-30T10:48:56.564Z"
   },
   {
    "duration": 2,
    "start_time": "2021-12-30T10:48:57.608Z"
   },
   {
    "duration": 29,
    "start_time": "2021-12-30T10:48:57.612Z"
   },
   {
    "duration": 964,
    "start_time": "2021-12-30T10:48:57.642Z"
   },
   {
    "duration": 6,
    "start_time": "2021-12-30T10:48:58.608Z"
   },
   {
    "duration": 171,
    "start_time": "2021-12-30T10:48:58.616Z"
   },
   {
    "duration": 6,
    "start_time": "2021-12-30T10:48:58.790Z"
   },
   {
    "duration": 4,
    "start_time": "2021-12-30T10:48:58.798Z"
   },
   {
    "duration": 32,
    "start_time": "2021-12-30T10:48:58.804Z"
   },
   {
    "duration": 1381,
    "start_time": "2021-12-30T10:48:58.837Z"
   },
   {
    "duration": -832,
    "start_time": "2021-12-30T10:49:01.052Z"
   },
   {
    "duration": -835,
    "start_time": "2021-12-30T10:49:01.056Z"
   },
   {
    "duration": -838,
    "start_time": "2021-12-30T10:49:01.060Z"
   },
   {
    "duration": -841,
    "start_time": "2021-12-30T10:49:01.065Z"
   },
   {
    "duration": -844,
    "start_time": "2021-12-30T10:49:01.069Z"
   },
   {
    "duration": -849,
    "start_time": "2021-12-30T10:49:01.075Z"
   },
   {
    "duration": -851,
    "start_time": "2021-12-30T10:49:01.078Z"
   },
   {
    "duration": -854,
    "start_time": "2021-12-30T10:49:01.082Z"
   },
   {
    "duration": -856,
    "start_time": "2021-12-30T10:49:01.085Z"
   },
   {
    "duration": -858,
    "start_time": "2021-12-30T10:49:01.088Z"
   },
   {
    "duration": -860,
    "start_time": "2021-12-30T10:49:01.091Z"
   },
   {
    "duration": -862,
    "start_time": "2021-12-30T10:49:01.094Z"
   },
   {
    "duration": -864,
    "start_time": "2021-12-30T10:49:01.097Z"
   },
   {
    "duration": -866,
    "start_time": "2021-12-30T10:49:01.100Z"
   },
   {
    "duration": -868,
    "start_time": "2021-12-30T10:49:01.103Z"
   },
   {
    "duration": -871,
    "start_time": "2021-12-30T10:49:01.106Z"
   },
   {
    "duration": -873,
    "start_time": "2021-12-30T10:49:01.109Z"
   },
   {
    "duration": -875,
    "start_time": "2021-12-30T10:49:01.112Z"
   },
   {
    "duration": -878,
    "start_time": "2021-12-30T10:49:01.115Z"
   },
   {
    "duration": -880,
    "start_time": "2021-12-30T10:49:01.118Z"
   },
   {
    "duration": -882,
    "start_time": "2021-12-30T10:49:01.121Z"
   },
   {
    "duration": -884,
    "start_time": "2021-12-30T10:49:01.124Z"
   },
   {
    "duration": -918,
    "start_time": "2021-12-30T10:49:01.159Z"
   },
   {
    "duration": -922,
    "start_time": "2021-12-30T10:49:01.164Z"
   },
   {
    "duration": -925,
    "start_time": "2021-12-30T10:49:01.168Z"
   },
   {
    "duration": -927,
    "start_time": "2021-12-30T10:49:01.171Z"
   },
   {
    "duration": -931,
    "start_time": "2021-12-30T10:49:01.175Z"
   },
   {
    "duration": -934,
    "start_time": "2021-12-30T10:49:01.179Z"
   },
   {
    "duration": 3957,
    "start_time": "2021-12-30T10:50:44.219Z"
   },
   {
    "duration": 255,
    "start_time": "2021-12-30T10:51:06.211Z"
   },
   {
    "duration": -872,
    "start_time": "2021-12-30T10:51:07.341Z"
   },
   {
    "duration": -875,
    "start_time": "2021-12-30T10:51:07.345Z"
   },
   {
    "duration": -878,
    "start_time": "2021-12-30T10:51:07.349Z"
   },
   {
    "duration": -882,
    "start_time": "2021-12-30T10:51:07.354Z"
   },
   {
    "duration": -885,
    "start_time": "2021-12-30T10:51:07.358Z"
   },
   {
    "duration": -888,
    "start_time": "2021-12-30T10:51:07.362Z"
   },
   {
    "duration": -891,
    "start_time": "2021-12-30T10:51:07.366Z"
   },
   {
    "duration": -894,
    "start_time": "2021-12-30T10:51:07.370Z"
   },
   {
    "duration": -897,
    "start_time": "2021-12-30T10:51:07.373Z"
   },
   {
    "duration": -900,
    "start_time": "2021-12-30T10:51:07.377Z"
   },
   {
    "duration": -902,
    "start_time": "2021-12-30T10:51:07.380Z"
   },
   {
    "duration": -905,
    "start_time": "2021-12-30T10:51:07.384Z"
   },
   {
    "duration": -908,
    "start_time": "2021-12-30T10:51:07.388Z"
   },
   {
    "duration": -911,
    "start_time": "2021-12-30T10:51:07.392Z"
   },
   {
    "duration": -913,
    "start_time": "2021-12-30T10:51:07.395Z"
   },
   {
    "duration": -916,
    "start_time": "2021-12-30T10:51:07.399Z"
   },
   {
    "duration": -918,
    "start_time": "2021-12-30T10:51:07.402Z"
   },
   {
    "duration": -922,
    "start_time": "2021-12-30T10:51:07.407Z"
   },
   {
    "duration": -924,
    "start_time": "2021-12-30T10:51:07.410Z"
   },
   {
    "duration": -927,
    "start_time": "2021-12-30T10:51:07.414Z"
   },
   {
    "duration": -929,
    "start_time": "2021-12-30T10:51:07.417Z"
   },
   {
    "duration": -931,
    "start_time": "2021-12-30T10:51:07.420Z"
   },
   {
    "duration": -934,
    "start_time": "2021-12-30T10:51:07.423Z"
   },
   {
    "duration": -936,
    "start_time": "2021-12-30T10:51:07.426Z"
   },
   {
    "duration": -938,
    "start_time": "2021-12-30T10:51:07.429Z"
   },
   {
    "duration": -940,
    "start_time": "2021-12-30T10:51:07.432Z"
   },
   {
    "duration": -943,
    "start_time": "2021-12-30T10:51:07.436Z"
   },
   {
    "duration": -956,
    "start_time": "2021-12-30T10:51:07.450Z"
   },
   {
    "duration": 1660,
    "start_time": "2021-12-30T10:51:59.489Z"
   },
   {
    "duration": 5,
    "start_time": "2021-12-30T10:52:01.151Z"
   },
   {
    "duration": 379,
    "start_time": "2021-12-30T10:52:01.158Z"
   },
   {
    "duration": 2,
    "start_time": "2021-12-30T10:52:01.539Z"
   },
   {
    "duration": 28,
    "start_time": "2021-12-30T10:52:01.543Z"
   },
   {
    "duration": 975,
    "start_time": "2021-12-30T10:52:01.573Z"
   },
   {
    "duration": 6,
    "start_time": "2021-12-30T10:52:02.549Z"
   },
   {
    "duration": 179,
    "start_time": "2021-12-30T10:52:02.557Z"
   },
   {
    "duration": 6,
    "start_time": "2021-12-30T10:52:02.738Z"
   },
   {
    "duration": 10,
    "start_time": "2021-12-30T10:52:02.746Z"
   },
   {
    "duration": 22,
    "start_time": "2021-12-30T10:52:02.758Z"
   },
   {
    "duration": 2402,
    "start_time": "2021-12-30T10:52:02.781Z"
   },
   {
    "duration": 1073,
    "start_time": "2021-12-30T10:52:05.185Z"
   },
   {
    "duration": 17,
    "start_time": "2021-12-30T10:52:06.260Z"
   },
   {
    "duration": 1148,
    "start_time": "2021-12-30T10:52:06.279Z"
   },
   {
    "duration": 34,
    "start_time": "2021-12-30T10:52:07.428Z"
   },
   {
    "duration": 4,
    "start_time": "2021-12-30T10:52:07.464Z"
   },
   {
    "duration": 6,
    "start_time": "2021-12-30T10:52:07.470Z"
   },
   {
    "duration": 4,
    "start_time": "2021-12-30T10:52:07.477Z"
   },
   {
    "duration": 7,
    "start_time": "2021-12-30T10:52:07.483Z"
   },
   {
    "duration": 5,
    "start_time": "2021-12-30T10:52:07.491Z"
   },
   {
    "duration": 12,
    "start_time": "2021-12-30T10:52:07.527Z"
   },
   {
    "duration": 506,
    "start_time": "2021-12-30T10:52:07.542Z"
   },
   {
    "duration": 94,
    "start_time": "2021-12-30T10:52:08.050Z"
   },
   {
    "duration": 5,
    "start_time": "2021-12-30T10:52:08.146Z"
   },
   {
    "duration": 8,
    "start_time": "2021-12-30T10:52:08.153Z"
   },
   {
    "duration": 9,
    "start_time": "2021-12-30T10:52:08.162Z"
   },
   {
    "duration": 427,
    "start_time": "2021-12-30T10:52:08.172Z"
   },
   {
    "duration": 112,
    "start_time": "2021-12-30T10:52:08.601Z"
   },
   {
    "duration": 29,
    "start_time": "2021-12-30T10:52:08.727Z"
   },
   {
    "duration": 54,
    "start_time": "2021-12-30T10:52:08.758Z"
   },
   {
    "duration": 19,
    "start_time": "2021-12-30T10:52:08.814Z"
   },
   {
    "duration": 24,
    "start_time": "2021-12-30T10:52:08.835Z"
   },
   {
    "duration": 11,
    "start_time": "2021-12-30T10:52:08.861Z"
   },
   {
    "duration": 15,
    "start_time": "2021-12-30T10:52:08.873Z"
   },
   {
    "duration": 38,
    "start_time": "2021-12-30T10:52:08.890Z"
   },
   {
    "duration": 420,
    "start_time": "2021-12-30T10:52:08.930Z"
   },
   {
    "duration": 14,
    "start_time": "2021-12-30T10:52:09.352Z"
   },
   {
    "duration": 12,
    "start_time": "2021-12-30T10:52:09.367Z"
   },
   {
    "duration": 17,
    "start_time": "2021-12-30T10:52:09.381Z"
   },
   {
    "duration": 36,
    "start_time": "2021-12-30T10:52:09.400Z"
   },
   {
    "duration": 360,
    "start_time": "2022-01-03T10:49:39.098Z"
   },
   {
    "duration": 1394,
    "start_time": "2022-01-03T10:49:46.429Z"
   },
   {
    "duration": 4,
    "start_time": "2022-01-03T10:49:47.825Z"
   },
   {
    "duration": 631,
    "start_time": "2022-01-03T10:49:47.831Z"
   },
   {
    "duration": 2,
    "start_time": "2022-01-03T10:49:48.464Z"
   },
   {
    "duration": 22,
    "start_time": "2022-01-03T10:49:48.468Z"
   },
   {
    "duration": 936,
    "start_time": "2022-01-03T10:49:48.492Z"
   },
   {
    "duration": 6,
    "start_time": "2022-01-03T10:49:49.429Z"
   },
   {
    "duration": 165,
    "start_time": "2022-01-03T10:49:49.437Z"
   },
   {
    "duration": 6,
    "start_time": "2022-01-03T10:49:49.604Z"
   },
   {
    "duration": 18,
    "start_time": "2022-01-03T10:49:49.611Z"
   },
   {
    "duration": 27,
    "start_time": "2022-01-03T10:49:49.630Z"
   },
   {
    "duration": 3273,
    "start_time": "2022-01-03T10:49:49.659Z"
   },
   {
    "duration": 428,
    "start_time": "2022-01-03T10:49:52.934Z"
   },
   {
    "duration": 95,
    "start_time": "2022-01-03T10:49:53.269Z"
   },
   {
    "duration": 67,
    "start_time": "2022-01-03T10:49:53.298Z"
   },
   {
    "duration": 64,
    "start_time": "2022-01-03T10:49:53.302Z"
   },
   {
    "duration": 62,
    "start_time": "2022-01-03T10:49:53.305Z"
   },
   {
    "duration": 61,
    "start_time": "2022-01-03T10:49:53.307Z"
   },
   {
    "duration": 59,
    "start_time": "2022-01-03T10:49:53.310Z"
   },
   {
    "duration": 57,
    "start_time": "2022-01-03T10:49:53.313Z"
   },
   {
    "duration": 56,
    "start_time": "2022-01-03T10:49:53.315Z"
   },
   {
    "duration": 53,
    "start_time": "2022-01-03T10:49:53.318Z"
   },
   {
    "duration": 52,
    "start_time": "2022-01-03T10:49:53.320Z"
   },
   {
    "duration": 50,
    "start_time": "2022-01-03T10:49:53.323Z"
   },
   {
    "duration": 49,
    "start_time": "2022-01-03T10:49:53.325Z"
   },
   {
    "duration": 48,
    "start_time": "2022-01-03T10:49:53.327Z"
   },
   {
    "duration": 47,
    "start_time": "2022-01-03T10:49:53.329Z"
   },
   {
    "duration": 45,
    "start_time": "2022-01-03T10:49:53.332Z"
   },
   {
    "duration": 44,
    "start_time": "2022-01-03T10:49:53.334Z"
   },
   {
    "duration": 42,
    "start_time": "2022-01-03T10:49:53.337Z"
   },
   {
    "duration": 41,
    "start_time": "2022-01-03T10:49:53.339Z"
   },
   {
    "duration": 40,
    "start_time": "2022-01-03T10:49:53.341Z"
   },
   {
    "duration": 39,
    "start_time": "2022-01-03T10:49:53.343Z"
   },
   {
    "duration": 38,
    "start_time": "2022-01-03T10:49:53.345Z"
   },
   {
    "duration": 37,
    "start_time": "2022-01-03T10:49:53.347Z"
   },
   {
    "duration": 35,
    "start_time": "2022-01-03T10:49:53.350Z"
   },
   {
    "duration": 34,
    "start_time": "2022-01-03T10:49:53.352Z"
   },
   {
    "duration": 32,
    "start_time": "2022-01-03T10:49:53.355Z"
   },
   {
    "duration": 24,
    "start_time": "2022-01-03T10:49:53.364Z"
   },
   {
    "duration": 21,
    "start_time": "2022-01-03T10:49:53.367Z"
   },
   {
    "duration": 19,
    "start_time": "2022-01-03T10:49:53.370Z"
   },
   {
    "duration": 18,
    "start_time": "2022-01-03T10:49:53.372Z"
   },
   {
    "duration": 2475,
    "start_time": "2022-01-03T10:52:19.358Z"
   },
   {
    "duration": 1920,
    "start_time": "2022-01-03T10:52:23.981Z"
   },
   {
    "duration": 1394,
    "start_time": "2022-01-03T10:52:53.889Z"
   },
   {
    "duration": 5,
    "start_time": "2022-01-03T10:52:55.285Z"
   },
   {
    "duration": 535,
    "start_time": "2022-01-03T10:52:55.292Z"
   },
   {
    "duration": 2,
    "start_time": "2022-01-03T10:52:55.829Z"
   },
   {
    "duration": 22,
    "start_time": "2022-01-03T10:52:55.833Z"
   },
   {
    "duration": 903,
    "start_time": "2022-01-03T10:52:55.856Z"
   },
   {
    "duration": 6,
    "start_time": "2022-01-03T10:52:56.761Z"
   },
   {
    "duration": 169,
    "start_time": "2022-01-03T10:52:56.770Z"
   },
   {
    "duration": 5,
    "start_time": "2022-01-03T10:52:56.941Z"
   },
   {
    "duration": 4,
    "start_time": "2022-01-03T10:52:56.948Z"
   },
   {
    "duration": 17,
    "start_time": "2022-01-03T10:52:56.953Z"
   },
   {
    "duration": 2326,
    "start_time": "2022-01-03T10:52:56.971Z"
   },
   {
    "duration": 1029,
    "start_time": "2022-01-03T10:52:59.298Z"
   },
   {
    "duration": 17,
    "start_time": "2022-01-03T10:53:00.329Z"
   },
   {
    "duration": 1084,
    "start_time": "2022-01-03T10:53:00.347Z"
   },
   {
    "duration": 34,
    "start_time": "2022-01-03T10:53:01.433Z"
   },
   {
    "duration": 4,
    "start_time": "2022-01-03T10:53:01.469Z"
   },
   {
    "duration": 7,
    "start_time": "2022-01-03T10:53:01.475Z"
   },
   {
    "duration": 6,
    "start_time": "2022-01-03T10:53:01.484Z"
   },
   {
    "duration": 8,
    "start_time": "2022-01-03T10:53:01.491Z"
   },
   {
    "duration": 32,
    "start_time": "2022-01-03T10:53:01.500Z"
   },
   {
    "duration": 9,
    "start_time": "2022-01-03T10:53:01.533Z"
   },
   {
    "duration": 11,
    "start_time": "2022-01-03T10:53:01.545Z"
   },
   {
    "duration": 492,
    "start_time": "2022-01-03T10:53:01.558Z"
   },
   {
    "duration": 92,
    "start_time": "2022-01-03T10:53:02.052Z"
   },
   {
    "duration": 4,
    "start_time": "2022-01-03T10:53:02.146Z"
   },
   {
    "duration": 7,
    "start_time": "2022-01-03T10:53:02.152Z"
   },
   {
    "duration": 9,
    "start_time": "2022-01-03T10:53:02.160Z"
   },
   {
    "duration": 400,
    "start_time": "2022-01-03T10:53:02.170Z"
   },
   {
    "duration": 111,
    "start_time": "2022-01-03T10:53:02.571Z"
   },
   {
    "duration": 28,
    "start_time": "2022-01-03T10:53:02.683Z"
   },
   {
    "duration": 62,
    "start_time": "2022-01-03T10:53:02.713Z"
   },
   {
    "duration": 7,
    "start_time": "2022-01-03T10:53:02.777Z"
   },
   {
    "duration": 22,
    "start_time": "2022-01-03T10:53:02.785Z"
   },
   {
    "duration": 23,
    "start_time": "2022-01-03T10:53:02.809Z"
   },
   {
    "duration": 13,
    "start_time": "2022-01-03T10:53:02.833Z"
   },
   {
    "duration": 10,
    "start_time": "2022-01-03T10:53:02.848Z"
   },
   {
    "duration": 434,
    "start_time": "2022-01-03T10:53:02.859Z"
   },
   {
    "duration": 14,
    "start_time": "2022-01-03T10:53:03.295Z"
   },
   {
    "duration": 24,
    "start_time": "2022-01-03T10:53:03.310Z"
   },
   {
    "duration": 13,
    "start_time": "2022-01-03T10:53:03.335Z"
   },
   {
    "duration": 13,
    "start_time": "2022-01-03T10:53:03.350Z"
   },
   {
    "duration": 106,
    "start_time": "2022-01-03T10:53:34.146Z"
   },
   {
    "duration": 8450,
    "start_time": "2022-01-03T10:55:37.675Z"
   },
   {
    "duration": 217,
    "start_time": "2022-01-03T10:55:49.801Z"
   },
   {
    "duration": 104,
    "start_time": "2022-01-03T10:56:06.075Z"
   },
   {
    "duration": 104,
    "start_time": "2022-01-03T10:56:21.436Z"
   },
   {
    "duration": 3,
    "start_time": "2022-01-03T10:57:10.471Z"
   },
   {
    "duration": 105,
    "start_time": "2022-01-03T10:57:15.025Z"
   },
   {
    "duration": 8,
    "start_time": "2022-01-03T10:57:25.202Z"
   },
   {
    "duration": 9,
    "start_time": "2022-01-03T10:57:45.678Z"
   },
   {
    "duration": 8,
    "start_time": "2022-01-03T10:58:13.228Z"
   },
   {
    "duration": 9,
    "start_time": "2022-01-03T10:58:37.461Z"
   },
   {
    "duration": 106,
    "start_time": "2022-01-03T10:58:58.616Z"
   },
   {
    "duration": 2430,
    "start_time": "2022-01-04T09:08:40.397Z"
   },
   {
    "duration": 7,
    "start_time": "2022-01-04T09:08:42.830Z"
   },
   {
    "duration": 491,
    "start_time": "2022-01-04T09:08:42.840Z"
   },
   {
    "duration": 4,
    "start_time": "2022-01-04T09:08:43.334Z"
   },
   {
    "duration": 47,
    "start_time": "2022-01-04T09:08:43.340Z"
   },
   {
    "duration": 1811,
    "start_time": "2022-01-04T09:08:43.390Z"
   },
   {
    "duration": 8,
    "start_time": "2022-01-04T09:08:45.203Z"
   },
   {
    "duration": 267,
    "start_time": "2022-01-04T09:08:45.214Z"
   },
   {
    "duration": 10,
    "start_time": "2022-01-04T09:08:45.484Z"
   },
   {
    "duration": 6,
    "start_time": "2022-01-04T09:08:45.497Z"
   },
   {
    "duration": 21,
    "start_time": "2022-01-04T09:08:45.506Z"
   },
   {
    "duration": 4566,
    "start_time": "2022-01-04T09:08:45.529Z"
   },
   {
    "duration": 485,
    "start_time": "2022-01-04T09:08:50.098Z"
   },
   {
    "duration": 21,
    "start_time": "2022-01-04T09:08:50.566Z"
   },
   {
    "duration": 17,
    "start_time": "2022-01-04T09:08:50.571Z"
   },
   {
    "duration": 16,
    "start_time": "2022-01-04T09:08:50.574Z"
   },
   {
    "duration": 15,
    "start_time": "2022-01-04T09:08:50.576Z"
   },
   {
    "duration": 14,
    "start_time": "2022-01-04T09:08:50.579Z"
   },
   {
    "duration": 14,
    "start_time": "2022-01-04T09:08:50.581Z"
   },
   {
    "duration": 12,
    "start_time": "2022-01-04T09:08:50.584Z"
   },
   {
    "duration": 10,
    "start_time": "2022-01-04T09:08:50.587Z"
   },
   {
    "duration": 10,
    "start_time": "2022-01-04T09:08:50.589Z"
   },
   {
    "duration": 9,
    "start_time": "2022-01-04T09:08:50.591Z"
   },
   {
    "duration": 7,
    "start_time": "2022-01-04T09:08:50.594Z"
   },
   {
    "duration": 5,
    "start_time": "2022-01-04T09:08:50.597Z"
   },
   {
    "duration": 5,
    "start_time": "2022-01-04T09:08:50.599Z"
   },
   {
    "duration": 4,
    "start_time": "2022-01-04T09:08:50.601Z"
   },
   {
    "duration": 3,
    "start_time": "2022-01-04T09:08:50.603Z"
   },
   {
    "duration": 2,
    "start_time": "2022-01-04T09:08:50.606Z"
   },
   {
    "duration": 2,
    "start_time": "2022-01-04T09:08:50.607Z"
   },
   {
    "duration": 1,
    "start_time": "2022-01-04T09:08:50.609Z"
   },
   {
    "duration": 0,
    "start_time": "2022-01-04T09:08:50.611Z"
   },
   {
    "duration": 0,
    "start_time": "2022-01-04T09:08:50.613Z"
   },
   {
    "duration": -1,
    "start_time": "2022-01-04T09:08:50.615Z"
   },
   {
    "duration": -2,
    "start_time": "2022-01-04T09:08:50.617Z"
   },
   {
    "duration": -3,
    "start_time": "2022-01-04T09:08:50.619Z"
   },
   {
    "duration": -24,
    "start_time": "2022-01-04T09:08:50.642Z"
   },
   {
    "duration": -26,
    "start_time": "2022-01-04T09:08:50.645Z"
   },
   {
    "duration": -27,
    "start_time": "2022-01-04T09:08:50.647Z"
   },
   {
    "duration": 13,
    "start_time": "2022-01-04T09:08:50.649Z"
   },
   {
    "duration": 11,
    "start_time": "2022-01-04T09:08:50.652Z"
   },
   {
    "duration": 11,
    "start_time": "2022-01-04T09:08:50.654Z"
   },
   {
    "duration": 10,
    "start_time": "2022-01-04T09:08:50.656Z"
   },
   {
    "duration": 3533,
    "start_time": "2022-01-04T09:09:44.083Z"
   },
   {
    "duration": 312,
    "start_time": "2022-01-04T09:09:49.803Z"
   },
   {
    "duration": 1891,
    "start_time": "2022-01-04T09:09:56.028Z"
   },
   {
    "duration": 10,
    "start_time": "2022-01-04T09:09:57.922Z"
   },
   {
    "duration": 396,
    "start_time": "2022-01-04T09:09:57.936Z"
   },
   {
    "duration": 4,
    "start_time": "2022-01-04T09:09:58.335Z"
   },
   {
    "duration": 51,
    "start_time": "2022-01-04T09:09:58.342Z"
   },
   {
    "duration": 1733,
    "start_time": "2022-01-04T09:09:58.396Z"
   },
   {
    "duration": 9,
    "start_time": "2022-01-04T09:10:00.132Z"
   },
   {
    "duration": 269,
    "start_time": "2022-01-04T09:10:00.145Z"
   },
   {
    "duration": 10,
    "start_time": "2022-01-04T09:10:00.417Z"
   },
   {
    "duration": 11,
    "start_time": "2022-01-04T09:10:00.430Z"
   },
   {
    "duration": 23,
    "start_time": "2022-01-04T09:10:00.463Z"
   },
   {
    "duration": 3600,
    "start_time": "2022-01-04T09:10:00.488Z"
   },
   {
    "duration": 1779,
    "start_time": "2022-01-04T09:10:04.091Z"
   },
   {
    "duration": 26,
    "start_time": "2022-01-04T09:10:05.872Z"
   },
   {
    "duration": 2097,
    "start_time": "2022-01-04T09:10:05.900Z"
   },
   {
    "duration": 71,
    "start_time": "2022-01-04T09:10:07.999Z"
   },
   {
    "duration": 7,
    "start_time": "2022-01-04T09:10:08.073Z"
   },
   {
    "duration": 9,
    "start_time": "2022-01-04T09:10:08.083Z"
   },
   {
    "duration": 5,
    "start_time": "2022-01-04T09:10:08.094Z"
   },
   {
    "duration": 10,
    "start_time": "2022-01-04T09:10:08.102Z"
   },
   {
    "duration": 55,
    "start_time": "2022-01-04T09:10:08.115Z"
   },
   {
    "duration": 13,
    "start_time": "2022-01-04T09:10:08.173Z"
   },
   {
    "duration": 20,
    "start_time": "2022-01-04T09:10:08.191Z"
   },
   {
    "duration": 802,
    "start_time": "2022-01-04T09:10:08.214Z"
   },
   {
    "duration": 171,
    "start_time": "2022-01-04T09:10:09.018Z"
   },
   {
    "duration": 8,
    "start_time": "2022-01-04T09:10:09.192Z"
   },
   {
    "duration": 65,
    "start_time": "2022-01-04T09:10:09.203Z"
   },
   {
    "duration": 16,
    "start_time": "2022-01-04T09:10:09.271Z"
   },
   {
    "duration": 683,
    "start_time": "2022-01-04T09:10:09.290Z"
   },
   {
    "duration": 14,
    "start_time": "2022-01-04T09:10:09.975Z"
   },
   {
    "duration": 206,
    "start_time": "2022-01-04T09:10:09.992Z"
   },
   {
    "duration": 43,
    "start_time": "2022-01-04T09:10:10.201Z"
   },
   {
    "duration": 84,
    "start_time": "2022-01-04T09:10:10.263Z"
   },
   {
    "duration": 24,
    "start_time": "2022-01-04T09:10:10.349Z"
   },
   {
    "duration": 36,
    "start_time": "2022-01-04T09:10:10.376Z"
   },
   {
    "duration": 17,
    "start_time": "2022-01-04T09:10:10.415Z"
   },
   {
    "duration": 49,
    "start_time": "2022-01-04T09:10:10.434Z"
   },
   {
    "duration": 16,
    "start_time": "2022-01-04T09:10:10.486Z"
   },
   {
    "duration": 785,
    "start_time": "2022-01-04T09:10:10.505Z"
   },
   {
    "duration": 23,
    "start_time": "2022-01-04T09:10:11.292Z"
   },
   {
    "duration": 23,
    "start_time": "2022-01-04T09:10:11.318Z"
   },
   {
    "duration": 27,
    "start_time": "2022-01-04T09:10:11.363Z"
   },
   {
    "duration": 29,
    "start_time": "2022-01-04T09:10:11.392Z"
   },
   {
    "duration": 1381,
    "start_time": "2022-01-05T09:18:39.278Z"
   },
   {
    "duration": 5,
    "start_time": "2022-01-05T09:18:40.661Z"
   },
   {
    "duration": 601,
    "start_time": "2022-01-05T09:18:40.667Z"
   },
   {
    "duration": 3,
    "start_time": "2022-01-05T09:18:41.271Z"
   },
   {
    "duration": 25,
    "start_time": "2022-01-05T09:18:41.276Z"
   },
   {
    "duration": 960,
    "start_time": "2022-01-05T09:18:41.304Z"
   },
   {
    "duration": 7,
    "start_time": "2022-01-05T09:18:42.267Z"
   },
   {
    "duration": 194,
    "start_time": "2022-01-05T09:18:42.276Z"
   },
   {
    "duration": 9,
    "start_time": "2022-01-05T09:18:42.473Z"
   },
   {
    "duration": 7,
    "start_time": "2022-01-05T09:18:42.485Z"
   },
   {
    "duration": 53,
    "start_time": "2022-01-05T09:18:42.494Z"
   },
   {
    "duration": 3313,
    "start_time": "2022-01-05T09:18:42.550Z"
   },
   {
    "duration": 357,
    "start_time": "2022-01-05T09:18:45.865Z"
   },
   {
    "duration": 36,
    "start_time": "2022-01-05T09:18:46.189Z"
   },
   {
    "duration": -10,
    "start_time": "2022-01-05T09:18:46.236Z"
   },
   {
    "duration": -22,
    "start_time": "2022-01-05T09:18:46.249Z"
   },
   {
    "duration": -34,
    "start_time": "2022-01-05T09:18:46.262Z"
   },
   {
    "duration": -48,
    "start_time": "2022-01-05T09:18:46.276Z"
   },
   {
    "duration": -50,
    "start_time": "2022-01-05T09:18:46.279Z"
   },
   {
    "duration": -62,
    "start_time": "2022-01-05T09:18:46.292Z"
   },
   {
    "duration": -66,
    "start_time": "2022-01-05T09:18:46.297Z"
   },
   {
    "duration": -78,
    "start_time": "2022-01-05T09:18:46.310Z"
   },
   {
    "duration": -83,
    "start_time": "2022-01-05T09:18:46.316Z"
   },
   {
    "duration": -85,
    "start_time": "2022-01-05T09:18:46.319Z"
   },
   {
    "duration": -87,
    "start_time": "2022-01-05T09:18:46.322Z"
   },
   {
    "duration": -90,
    "start_time": "2022-01-05T09:18:46.326Z"
   },
   {
    "duration": -93,
    "start_time": "2022-01-05T09:18:46.329Z"
   },
   {
    "duration": -105,
    "start_time": "2022-01-05T09:18:46.342Z"
   },
   {
    "duration": -107,
    "start_time": "2022-01-05T09:18:46.345Z"
   },
   {
    "duration": -120,
    "start_time": "2022-01-05T09:18:46.359Z"
   },
   {
    "duration": -121,
    "start_time": "2022-01-05T09:18:46.361Z"
   },
   {
    "duration": -133,
    "start_time": "2022-01-05T09:18:46.374Z"
   },
   {
    "duration": -135,
    "start_time": "2022-01-05T09:18:46.377Z"
   },
   {
    "duration": -149,
    "start_time": "2022-01-05T09:18:46.391Z"
   },
   {
    "duration": -152,
    "start_time": "2022-01-05T09:18:46.396Z"
   },
   {
    "duration": -165,
    "start_time": "2022-01-05T09:18:46.409Z"
   },
   {
    "duration": -167,
    "start_time": "2022-01-05T09:18:46.412Z"
   },
   {
    "duration": -180,
    "start_time": "2022-01-05T09:18:46.426Z"
   },
   {
    "duration": -182,
    "start_time": "2022-01-05T09:18:46.429Z"
   },
   {
    "duration": -194,
    "start_time": "2022-01-05T09:18:46.442Z"
   },
   {
    "duration": -196,
    "start_time": "2022-01-05T09:18:46.445Z"
   },
   {
    "duration": -209,
    "start_time": "2022-01-05T09:18:46.459Z"
   },
   {
    "duration": -211,
    "start_time": "2022-01-05T09:18:46.462Z"
   },
   {
    "duration": 1371,
    "start_time": "2022-01-05T09:19:07.357Z"
   },
   {
    "duration": 7,
    "start_time": "2022-01-05T09:19:08.730Z"
   },
   {
    "duration": 638,
    "start_time": "2022-01-05T09:19:08.744Z"
   },
   {
    "duration": 2,
    "start_time": "2022-01-05T09:19:09.383Z"
   },
   {
    "duration": 23,
    "start_time": "2022-01-05T09:19:09.387Z"
   },
   {
    "duration": 975,
    "start_time": "2022-01-05T09:19:09.412Z"
   },
   {
    "duration": 6,
    "start_time": "2022-01-05T09:19:10.389Z"
   },
   {
    "duration": 177,
    "start_time": "2022-01-05T09:19:10.397Z"
   },
   {
    "duration": 6,
    "start_time": "2022-01-05T09:19:10.576Z"
   },
   {
    "duration": 5,
    "start_time": "2022-01-05T09:19:10.583Z"
   },
   {
    "duration": 18,
    "start_time": "2022-01-05T09:19:10.590Z"
   },
   {
    "duration": 2340,
    "start_time": "2022-01-05T09:19:10.609Z"
   },
   {
    "duration": 1141,
    "start_time": "2022-01-05T09:19:12.951Z"
   },
   {
    "duration": 19,
    "start_time": "2022-01-05T09:19:14.094Z"
   },
   {
    "duration": 1191,
    "start_time": "2022-01-05T09:19:14.114Z"
   },
   {
    "duration": 50,
    "start_time": "2022-01-05T09:19:15.307Z"
   },
   {
    "duration": 5,
    "start_time": "2022-01-05T09:19:15.359Z"
   },
   {
    "duration": 7,
    "start_time": "2022-01-05T09:19:15.366Z"
   },
   {
    "duration": 5,
    "start_time": "2022-01-05T09:19:15.375Z"
   },
   {
    "duration": 9,
    "start_time": "2022-01-05T09:19:15.382Z"
   },
   {
    "duration": 8,
    "start_time": "2022-01-05T09:19:15.392Z"
   },
   {
    "duration": 10,
    "start_time": "2022-01-05T09:19:15.440Z"
   },
   {
    "duration": 16,
    "start_time": "2022-01-05T09:19:15.452Z"
   },
   {
    "duration": 558,
    "start_time": "2022-01-05T09:19:15.470Z"
   },
   {
    "duration": 130,
    "start_time": "2022-01-05T09:19:16.042Z"
   },
   {
    "duration": 7,
    "start_time": "2022-01-05T09:19:16.174Z"
   },
   {
    "duration": 65,
    "start_time": "2022-01-05T09:19:16.183Z"
   },
   {
    "duration": 11,
    "start_time": "2022-01-05T09:19:16.250Z"
   },
   {
    "duration": 491,
    "start_time": "2022-01-05T09:19:16.263Z"
   },
   {
    "duration": 11,
    "start_time": "2022-01-05T09:19:16.756Z"
   },
   {
    "duration": 136,
    "start_time": "2022-01-05T09:19:16.769Z"
   },
   {
    "duration": 52,
    "start_time": "2022-01-05T09:19:16.907Z"
   },
   {
    "duration": 63,
    "start_time": "2022-01-05T09:19:16.961Z"
   },
   {
    "duration": 9,
    "start_time": "2022-01-05T09:19:17.041Z"
   },
   {
    "duration": 22,
    "start_time": "2022-01-05T09:19:17.052Z"
   },
   {
    "duration": 12,
    "start_time": "2022-01-05T09:19:17.076Z"
   },
   {
    "duration": 62,
    "start_time": "2022-01-05T09:19:17.090Z"
   },
   {
    "duration": 15,
    "start_time": "2022-01-05T09:19:17.154Z"
   },
   {
    "duration": 461,
    "start_time": "2022-01-05T09:19:17.171Z"
   },
   {
    "duration": 18,
    "start_time": "2022-01-05T09:19:17.634Z"
   },
   {
    "duration": 18,
    "start_time": "2022-01-05T09:19:17.654Z"
   },
   {
    "duration": 18,
    "start_time": "2022-01-05T09:19:17.674Z"
   },
   {
    "duration": 56,
    "start_time": "2022-01-05T09:19:17.694Z"
   },
   {
    "duration": 181,
    "start_time": "2022-01-05T09:27:04.927Z"
   },
   {
    "duration": 180,
    "start_time": "2022-01-05T09:27:33.864Z"
   },
   {
    "duration": 185,
    "start_time": "2022-01-05T09:27:53.576Z"
   },
   {
    "duration": 6638,
    "start_time": "2022-01-05T09:28:07.404Z"
   },
   {
    "duration": 6879,
    "start_time": "2022-01-05T09:28:56.376Z"
   },
   {
    "duration": 6232,
    "start_time": "2022-01-05T09:29:18.114Z"
   },
   {
    "duration": 8669,
    "start_time": "2022-01-05T09:30:02.105Z"
   },
   {
    "duration": 14,
    "start_time": "2022-01-05T09:30:25.055Z"
   },
   {
    "duration": 8,
    "start_time": "2022-01-05T09:31:32.712Z"
   },
   {
    "duration": 209,
    "start_time": "2022-01-05T09:32:55.338Z"
   },
   {
    "duration": 563,
    "start_time": "2022-01-05T09:34:15.900Z"
   },
   {
    "duration": 563,
    "start_time": "2022-01-05T09:34:54.736Z"
   },
   {
    "duration": 4,
    "start_time": "2022-01-05T09:35:21.812Z"
   },
   {
    "duration": 8,
    "start_time": "2022-01-05T09:36:26.666Z"
   },
   {
    "duration": 568,
    "start_time": "2022-01-05T09:39:08.414Z"
   },
   {
    "duration": 7,
    "start_time": "2022-01-05T09:39:18.973Z"
   },
   {
    "duration": 5780,
    "start_time": "2022-01-05T09:41:53.918Z"
   },
   {
    "duration": 213,
    "start_time": "2022-01-05T09:42:43.940Z"
   },
   {
    "duration": 3,
    "start_time": "2022-01-05T09:43:04.980Z"
   },
   {
    "duration": 7,
    "start_time": "2022-01-05T09:45:28.623Z"
   },
   {
    "duration": 41,
    "start_time": "2022-01-05T09:46:01.613Z"
   },
   {
    "duration": 174,
    "start_time": "2022-01-05T09:46:39.247Z"
   },
   {
    "duration": 12,
    "start_time": "2022-01-05T09:48:30.999Z"
   },
   {
    "duration": 8,
    "start_time": "2022-01-05T09:49:48.590Z"
   },
   {
    "duration": 6,
    "start_time": "2022-01-05T09:50:12.863Z"
   },
   {
    "duration": 9,
    "start_time": "2022-01-05T09:50:20.134Z"
   },
   {
    "duration": 7,
    "start_time": "2022-01-05T09:52:38.803Z"
   },
   {
    "duration": 100,
    "start_time": "2022-01-05T09:53:13.831Z"
   },
   {
    "duration": 9,
    "start_time": "2022-01-05T09:55:20.357Z"
   },
   {
    "duration": 75,
    "start_time": "2022-01-05T09:56:29.219Z"
   },
   {
    "duration": 8,
    "start_time": "2022-01-05T10:01:06.310Z"
   },
   {
    "duration": 78,
    "start_time": "2022-01-05T10:01:28.752Z"
   },
   {
    "duration": 9,
    "start_time": "2022-01-05T10:03:02.405Z"
   },
   {
    "duration": 8,
    "start_time": "2022-01-05T10:05:26.884Z"
   },
   {
    "duration": 7536,
    "start_time": "2022-01-05T10:06:44.527Z"
   },
   {
    "duration": 9,
    "start_time": "2022-01-05T10:07:02.455Z"
   },
   {
    "duration": 9,
    "start_time": "2022-01-05T10:07:18.635Z"
   },
   {
    "duration": 4,
    "start_time": "2022-01-05T10:13:34.694Z"
   },
   {
    "duration": 4,
    "start_time": "2022-01-05T10:17:47.614Z"
   },
   {
    "duration": 8,
    "start_time": "2022-01-05T10:17:53.702Z"
   },
   {
    "duration": 9,
    "start_time": "2022-01-05T10:18:05.459Z"
   },
   {
    "duration": 8,
    "start_time": "2022-01-05T10:18:12.682Z"
   },
   {
    "duration": 8,
    "start_time": "2022-01-05T10:18:21.557Z"
   },
   {
    "duration": 4,
    "start_time": "2022-01-05T10:18:41.519Z"
   },
   {
    "duration": 88,
    "start_time": "2022-01-05T10:21:49.971Z"
   }
  ],
  "kernelspec": {
   "display_name": "Python 3",
   "language": "python",
   "name": "python3"
  },
  "language_info": {
   "codemirror_mode": {
    "name": "ipython",
    "version": 3
   },
   "file_extension": ".py",
   "mimetype": "text/x-python",
   "name": "python",
   "nbconvert_exporter": "python",
   "pygments_lexer": "ipython3",
   "version": "3.7.11"
  },
  "toc": {
   "base_numbering": 1,
   "nav_menu": {},
   "number_sections": true,
   "sideBar": true,
   "skip_h1_title": true,
   "title_cell": "Table of Contents",
   "title_sidebar": "Contents",
   "toc_cell": false,
   "toc_position": {},
   "toc_section_display": true,
   "toc_window_display": false
  }
 },
 "nbformat": 4,
 "nbformat_minor": 5
}
